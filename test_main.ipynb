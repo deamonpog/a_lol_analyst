{
 "cells": [
  {
   "cell_type": "code",
   "execution_count": 1,
   "metadata": {},
   "outputs": [],
   "source": [
    "import requests\n",
    "import json"
   ]
  },
  {
   "cell_type": "code",
   "execution_count": 2,
   "metadata": {},
   "outputs": [
    {
     "name": "stdout",
     "output_type": "stream",
     "text": [
      "Key reading was successful.\n"
     ]
    }
   ],
   "source": [
    "riot_api_key_file = \"../../riot_api_key.json\"\n",
    "API_KEY = \"\"\n",
    "with open(riot_api_key_file) as f:\n",
    "    API_KEY = json.loads(f.readlines()[0])[\"API_KEY\"]\n",
    "    \n",
    "print(f\"Key reading was {'not ' if (API_KEY == '') else ''}successful.\")"
   ]
  },
  {
   "cell_type": "code",
   "execution_count": 16,
   "metadata": {},
   "outputs": [],
   "source": [
    "def runGetSubdomain(in_subdomain_with_params, in_region, in_additional_params_str = ''):\n",
    "    get_url = f\"https://{in_region}.api.riotgames.com/lol/{in_subdomain_with_params}?api_key={API_KEY}{in_additional_params_str}\"\n",
    "    return requests.get(get_url)\n",
    "    \n",
    "def runGetSummonerByName(in_summoner_name, in_region):\n",
    "    subdomain_with_params = f\"summoner/v4/summoners/by-name/{in_summoner_name}\"\n",
    "    return runGetSubdomain(subdomain_with_params, in_region)\n",
    "\n",
    "def runGetMatchListByAccount(in_encrypted_account_id, in_region):\n",
    "    subdomain_with_params = f\"match/v4/matchlists/by-account/{in_encrypted_account_id}\"\n",
    "    return runGetSubdomain(subdomain_with_params, in_region)\n",
    "\n",
    "def runGetMatchInfoByMatchId(in_match_id, in_region):\n",
    "    subdomain_with_params = f\"match/v4/matches/{in_match_id}\"\n",
    "    return runGetSubdomain(subdomain_with_params, in_region)\n",
    "    \n",
    "def runGetMatchTimelineDataByGameID(in_match_id, in_region):\n",
    "    subdomain_with_params = f\"match/v4/timelines/by-match/{in_match_id}\"\n",
    "    return runGetSubdomain(subdomain_with_params, in_region)\n",
    "\n",
    "def runGetChampionMasteriesBySummonerId(in_encrypted_summoner_id, in_region):\n",
    "    subdomain_with_params = f\"champion-mastery/v4/champion-masteries/by-summoner/{in_encrypted_summoner_id}\"\n",
    "    return runGetSubdomain(subdomain_with_params, in_region)\n"
   ]
  },
  {
   "cell_type": "code",
   "execution_count": 17,
   "metadata": {},
   "outputs": [
    {
     "name": "stdout",
     "output_type": "stream",
     "text": [
      "{'id': 'uy0D0lyCAvNnR71LW5x-0SA7wSd_2-X-IPW_4ItrQGQP3m8', 'accountId': 'gaNAOocsfkvwlC0jYXEySSWKG8930SWqHkJNHq5almX4WLQ', 'puuid': 'olnw7mrmASkBqlCVg4vOzbYnFE4btBrQvmbD_px2AkY5mepTNchqaXDWKbW3IsHXIFuCt42V4tqymA', 'name': 'deamonpog', 'profileIconId': 22, 'revisionDate': 1597442298000, 'summonerLevel': 342}\n",
      "Number of matches: 100\n",
      "The Game mode: ARAM\n",
      "Number of frames: 17\n"
     ]
    }
   ],
   "source": [
    "in_sumName = 'deamonpog'\n",
    "in_region = 'EUW'\n",
    "\n",
    "get_response = runGetSummonerByName('deamonpog','euw1')\n",
    "if get_response.status_code == 200:\n",
    "    summoner_info = get_response.json()\n",
    "    print(summoner_info)\n",
    "else:\n",
    "    print(f\"Response code: {get_response.status_code}\")\n",
    "    \n",
    "get_response = runGetMatchListByAccount(summoner_info['accountId'],'euw1')\n",
    "if get_response.status_code == 200:\n",
    "    match_list = get_response.json()\n",
    "    print(f\"Number of matches: {len(match_list['matches'])}\")\n",
    "else:\n",
    "    print(f\"Response code: {get_response.status_code}\")\n",
    "          \n",
    "get_response = runGetMatchInfoByMatchId(match_list['matches'][0]['gameId'],'euw1')\n",
    "if get_response.status_code == 200:\n",
    "    match_info = get_response.json()\n",
    "    print(f\"The Game mode: {match_info['gameMode']}\")\n",
    "else:\n",
    "    print(f\"Response code: {get_response.status_code}\")\n",
    "\n",
    "get_response = runGetMatchTimelineDataByGameID(match_list['matches'][0]['gameId'],'euw1')\n",
    "if get_response.status_code == 200:\n",
    "    match_data = get_response.json()\n",
    "    print(f\"Number of frames: {len(match_data['frames'])}\")\n",
    "else:\n",
    "    print(f\"Response code: {get_response.status_code}\")"
   ]
  },
  {
   "cell_type": "code",
   "execution_count": 13,
   "metadata": {
    "scrolled": true
   },
   "outputs": [
    {
     "data": {
      "text/plain": [
       "[{'type': 'ITEM_DESTROYED',\n",
       "  'timestamp': 182987,\n",
       "  'participantId': 4,\n",
       "  'itemId': 2003},\n",
       " {'type': 'WARD_KILL',\n",
       "  'timestamp': 184671,\n",
       "  'wardType': 'UNDEFINED',\n",
       "  'killerId': 10},\n",
       " {'type': 'CHAMPION_KILL',\n",
       "  'timestamp': 188570,\n",
       "  'position': {'x': 6006, 'y': 5845},\n",
       "  'killerId': 1,\n",
       "  'victimId': 7,\n",
       "  'assistingParticipantIds': [2, 3, 4, 5]},\n",
       " {'type': 'ITEM_PURCHASED',\n",
       "  'timestamp': 192636,\n",
       "  'participantId': 7,\n",
       "  'itemId': 3044},\n",
       " {'type': 'CHAMPION_KILL',\n",
       "  'timestamp': 193628,\n",
       "  'position': {'x': 6618, 'y': 6642},\n",
       "  'killerId': 2,\n",
       "  'victimId': 9,\n",
       "  'assistingParticipantIds': [1, 3, 5]},\n",
       " {'type': 'ITEM_DESTROYED',\n",
       "  'timestamp': 194222,\n",
       "  'participantId': 5,\n",
       "  'itemId': 2003},\n",
       " {'type': 'CHAMPION_KILL',\n",
       "  'timestamp': 197363,\n",
       "  'position': {'x': 7085, 'y': 7348},\n",
       "  'killerId': 2,\n",
       "  'victimId': 6,\n",
       "  'assistingParticipantIds': [1, 3, 4, 5]},\n",
       " {'type': 'ITEM_PURCHASED',\n",
       "  'timestamp': 198882,\n",
       "  'participantId': 9,\n",
       "  'itemId': 3010},\n",
       " {'type': 'SKILL_LEVEL_UP',\n",
       "  'timestamp': 199344,\n",
       "  'participantId': 10,\n",
       "  'skillSlot': 4,\n",
       "  'levelUpType': 'NORMAL'},\n",
       " {'type': 'SKILL_LEVEL_UP',\n",
       "  'timestamp': 199410,\n",
       "  'participantId': 6,\n",
       "  'skillSlot': 4,\n",
       "  'levelUpType': 'NORMAL'},\n",
       " {'type': 'ITEM_DESTROYED',\n",
       "  'timestamp': 199707,\n",
       "  'participantId': 5,\n",
       "  'itemId': 2003},\n",
       " {'type': 'SKILL_LEVEL_UP',\n",
       "  'timestamp': 201128,\n",
       "  'participantId': 6,\n",
       "  'skillSlot': 1,\n",
       "  'levelUpType': 'NORMAL'},\n",
       " {'type': 'CHAMPION_KILL',\n",
       "  'timestamp': 202912,\n",
       "  'position': {'x': 8302, 'y': 7751},\n",
       "  'killerId': 3,\n",
       "  'victimId': 8,\n",
       "  'assistingParticipantIds': [1, 2, 4, 5]},\n",
       " {'type': 'SKILL_LEVEL_UP',\n",
       "  'timestamp': 204036,\n",
       "  'participantId': 5,\n",
       "  'skillSlot': 4,\n",
       "  'levelUpType': 'NORMAL'},\n",
       " {'type': 'SKILL_LEVEL_UP',\n",
       "  'timestamp': 204861,\n",
       "  'participantId': 3,\n",
       "  'skillSlot': 4,\n",
       "  'levelUpType': 'NORMAL'},\n",
       " {'type': 'SKILL_LEVEL_UP',\n",
       "  'timestamp': 204960,\n",
       "  'participantId': 2,\n",
       "  'skillSlot': 4,\n",
       "  'levelUpType': 'NORMAL'},\n",
       " {'type': 'SKILL_LEVEL_UP',\n",
       "  'timestamp': 205654,\n",
       "  'participantId': 9,\n",
       "  'skillSlot': 4,\n",
       "  'levelUpType': 'NORMAL'},\n",
       " {'type': 'SKILL_LEVEL_UP',\n",
       "  'timestamp': 206581,\n",
       "  'participantId': 1,\n",
       "  'skillSlot': 4,\n",
       "  'levelUpType': 'NORMAL'},\n",
       " {'type': 'SKILL_LEVEL_UP',\n",
       "  'timestamp': 206581,\n",
       "  'participantId': 4,\n",
       "  'skillSlot': 4,\n",
       "  'levelUpType': 'NORMAL'},\n",
       " {'type': 'ITEM_DESTROYED',\n",
       "  'timestamp': 206845,\n",
       "  'participantId': 4,\n",
       "  'itemId': 2003},\n",
       " {'type': 'ITEM_PURCHASED',\n",
       "  'timestamp': 207507,\n",
       "  'participantId': 6,\n",
       "  'itemId': 3086},\n",
       " {'type': 'ITEM_DESTROYED',\n",
       "  'timestamp': 207507,\n",
       "  'participantId': 6,\n",
       "  'itemId': 1042},\n",
       " {'type': 'WARD_PLACED',\n",
       "  'timestamp': 207672,\n",
       "  'wardType': 'TEEMO_MUSHROOM',\n",
       "  'creatorId': 2},\n",
       " {'type': 'WARD_PLACED',\n",
       "  'timestamp': 210943,\n",
       "  'wardType': 'UNDEFINED',\n",
       "  'creatorId': 6},\n",
       " {'type': 'WARD_PLACED',\n",
       "  'timestamp': 210943,\n",
       "  'wardType': 'UNDEFINED',\n",
       "  'creatorId': 0},\n",
       " {'type': 'WARD_PLACED',\n",
       "  'timestamp': 210943,\n",
       "  'wardType': 'UNDEFINED',\n",
       "  'creatorId': 6},\n",
       " {'type': 'WARD_PLACED',\n",
       "  'timestamp': 210943,\n",
       "  'wardType': 'UNDEFINED',\n",
       "  'creatorId': 0},\n",
       " {'type': 'ITEM_PURCHASED',\n",
       "  'timestamp': 210976,\n",
       "  'participantId': 6,\n",
       "  'itemId': 1042},\n",
       " {'type': 'ITEM_DESTROYED',\n",
       "  'timestamp': 215072,\n",
       "  'participantId': 4,\n",
       "  'itemId': 2003},\n",
       " {'type': 'ITEM_PURCHASED',\n",
       "  'timestamp': 216823,\n",
       "  'participantId': 9,\n",
       "  'itemId': 1001},\n",
       " {'type': 'SKILL_LEVEL_UP',\n",
       "  'timestamp': 220194,\n",
       "  'participantId': 7,\n",
       "  'skillSlot': 4,\n",
       "  'levelUpType': 'NORMAL'},\n",
       " {'type': 'WARD_PLACED',\n",
       "  'timestamp': 229905,\n",
       "  'wardType': 'UNDEFINED',\n",
       "  'creatorId': 1},\n",
       " {'type': 'WARD_PLACED',\n",
       "  'timestamp': 234761,\n",
       "  'wardType': 'UNDEFINED',\n",
       "  'creatorId': 1},\n",
       " {'type': 'ITEM_DESTROYED',\n",
       "  'timestamp': 237933,\n",
       "  'participantId': 6,\n",
       "  'itemId': 2003}]"
      ]
     },
     "execution_count": 13,
     "metadata": {},
     "output_type": "execute_result"
    }
   ],
   "source": [
    "match_data['frames'][4]['events']"
   ]
  },
  {
   "cell_type": "code",
   "execution_count": 14,
   "metadata": {},
   "outputs": [
    {
     "data": {
      "text/plain": [
       "{'id': 'uy0D0lyCAvNnR71LW5x-0SA7wSd_2-X-IPW_4ItrQGQP3m8',\n",
       " 'accountId': 'gaNAOocsfkvwlC0jYXEySSWKG8930SWqHkJNHq5almX4WLQ',\n",
       " 'puuid': 'olnw7mrmASkBqlCVg4vOzbYnFE4btBrQvmbD_px2AkY5mepTNchqaXDWKbW3IsHXIFuCt42V4tqymA',\n",
       " 'name': 'deamonpog',\n",
       " 'profileIconId': 22,\n",
       " 'revisionDate': 1597442298000,\n",
       " 'summonerLevel': 342}"
      ]
     },
     "execution_count": 14,
     "metadata": {},
     "output_type": "execute_result"
    }
   ],
   "source": [
    "summoner_info"
   ]
  },
  {
   "cell_type": "code",
   "execution_count": 28,
   "metadata": {
    "scrolled": true
   },
   "outputs": [
    {
     "data": {
      "text/plain": [
       "{'participantId': 8,\n",
       " 'player': {'platformId': 'OC1',\n",
       "  'accountId': 'R3GRsIK7VObJc74v2kpmM_DLcXoLRpV3H3ly575eCgO1giE',\n",
       "  'summonerName': 'deamonpog',\n",
       "  'summonerId': 'uy0D0lyCAvNnR71LW5x-0SA7wSd_2-X-IPW_4ItrQGQP3m8',\n",
       "  'currentPlatformId': 'EUW1',\n",
       "  'currentAccountId': 'gaNAOocsfkvwlC0jYXEySSWKG8930SWqHkJNHq5almX4WLQ',\n",
       "  'matchHistoryUri': '/v1/stats/player_history/OC1/201473820',\n",
       "  'profileIcon': 22}}"
      ]
     },
     "execution_count": 28,
     "metadata": {},
     "output_type": "execute_result"
    }
   ],
   "source": [
    "match_info['participantIdentities'][7]"
   ]
  },
  {
   "cell_type": "code",
   "execution_count": null,
   "metadata": {},
   "outputs": [],
   "source": []
  }
 ],
 "metadata": {
  "kernelspec": {
   "display_name": "Python 3",
   "language": "python",
   "name": "python3"
  },
  "language_info": {
   "codemirror_mode": {
    "name": "ipython",
    "version": 3
   },
   "file_extension": ".py",
   "mimetype": "text/x-python",
   "name": "python",
   "nbconvert_exporter": "python",
   "pygments_lexer": "ipython3",
   "version": "3.7.3"
  }
 },
 "nbformat": 4,
 "nbformat_minor": 2
}
