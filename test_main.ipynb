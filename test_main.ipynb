{
 "cells": [
  {
   "cell_type": "code",
   "execution_count": null,
   "metadata": {},
   "outputs": [],
   "source": [
    "import requests\n",
    "import json\n",
    "\n",
    "from os import path\n",
    "from PIL import Image\n",
    "import IPython.display as display"
   ]
  },
  {
   "cell_type": "code",
   "execution_count": null,
   "metadata": {},
   "outputs": [],
   "source": [
    "root_dir = \"D:\\\\PROJECTS\\\\RIOT\\\\\"\n",
    "riot_api_key_file = \"riot_api_key.json\"\n",
    "data_dragon_root = \"DataDragon/dragontail-10.16.1/\""
   ]
  },
  {
   "cell_type": "code",
   "execution_count": null,
   "metadata": {},
   "outputs": [],
   "source": [
    "API_KEY = \"\"\n",
    "with open(path.join(root_dir, riot_api_key_file)) as f:\n",
    "    API_KEY = json.loads(f.readlines()[0])[\"API_KEY\"]\n",
    "    \n",
    "print(f\"Key reading was {'not ' if (API_KEY == '') else ''}successful.\")"
   ]
  },
  {
   "cell_type": "code",
   "execution_count": null,
   "metadata": {},
   "outputs": [],
   "source": [
    "champ_data = []\n",
    "id_to_champ = {}\n",
    "\n",
    "with open(path.join(root_dir, data_dragon_root, f\"10.16.1/data/en_US/champion.json\"), encoding='utf-8') as f:\n",
    "    r = f.readlines()[0]\n",
    "    champ_data = json.loads(r)['data']\n",
    "\n",
    "for ch in champ_data:\n",
    "    id_to_champ[int(champ_data[ch]['key'])] = ch"
   ]
  },
  {
   "cell_type": "code",
   "execution_count": null,
   "metadata": {},
   "outputs": [],
   "source": [
    "def runGetSubdomain(in_subdomain_with_params, in_region, in_additional_params_str = ''):\n",
    "    get_url = f\"https://{in_region}.api.riotgames.com/lol/{in_subdomain_with_params}?api_key={API_KEY}{in_additional_params_str}\"\n",
    "    return requests.get(get_url)\n",
    "    \n",
    "def runGetSummonerByName(in_summoner_name, in_region):\n",
    "    subdomain_with_params = f\"summoner/v4/summoners/by-name/{in_summoner_name}\"\n",
    "    return runGetSubdomain(subdomain_with_params, in_region)\n",
    "\n",
    "def runGetSummonerLeagueBySummonerId(in_encrypted_summoner_id, in_region):\n",
    "    subdomain_with_params = f\"league/v4/entries/by-summoner/{in_encrypted_summoner_id}\"\n",
    "    return runGetSubdomain(subdomain_with_params, in_region)\n",
    "\n",
    "def runGetMatchListByAccount(in_encrypted_account_id, in_region):\n",
    "    subdomain_with_params = f\"match/v4/matchlists/by-account/{in_encrypted_account_id}\"\n",
    "    return runGetSubdomain(subdomain_with_params, in_region)\n",
    "\n",
    "def runGetMatchInfoByMatchId(in_match_id, in_region):\n",
    "    subdomain_with_params = f\"match/v4/matches/{in_match_id}\"\n",
    "    return runGetSubdomain(subdomain_with_params, in_region)\n",
    "    \n",
    "def runGetMatchTimelineDataByGameID(in_match_id, in_region):\n",
    "    subdomain_with_params = f\"match/v4/timelines/by-match/{in_match_id}\"\n",
    "    return runGetSubdomain(subdomain_with_params, in_region)\n",
    "\n",
    "def runGetChampionMasteriesBySummonerId(in_encrypted_summoner_id, in_region):\n",
    "    subdomain_with_params = f\"champion-mastery/v4/champion-masteries/by-summoner/{in_encrypted_summoner_id}\"\n",
    "    return runGetSubdomain(subdomain_with_params, in_region)\n"
   ]
  },
  {
   "cell_type": "code",
   "execution_count": null,
   "metadata": {},
   "outputs": [],
   "source": [
    "in_sumName = 'deamonpog'\n",
    "in_region = 'euw1'\n",
    "\n",
    "get_response = runGetSummonerByName(in_sumName,in_region)\n",
    "if get_response.status_code == 200:\n",
    "    summoner_info = get_response.json()\n",
    "    img_prof_icon = Image.open(path.join(root_dir, data_dragon_root, f\"10.16.1/img/profileicon/{summoner_info['profileIconId']}.png\"))\n",
    "    display.display(img_prof_icon.resize((50,50)))\n",
    "    print(f\"Summoner: {summoner_info['name']} (level:{summoner_info['summonerLevel']})\")\n",
    "else:\n",
    "    print(f\"Response code: {get_response.status_code}\")\n",
    "\n",
    "get_response = runGetSummonerLeagueBySummonerId(summoner_info['id'],in_region)\n",
    "if get_response.status_code == 200:\n",
    "    summoner_league = get_response.json()\n",
    "    for lidx in range(len(summoner_league)):\n",
    "        img_tier = Image.open(path.join(root_dir, f\"Assets/ranked-emblems/Emblem_{(summoner_league[lidx]['tier']).capitalize()}.png\"))\n",
    "        display.display(img_tier.resize((50,50)))\n",
    "        print(f\"Queue: {summoner_league[lidx]['queueType']} Rank: {summoner_league[lidx]['tier']}-{summoner_league[lidx]['rank']}\")\n",
    "else:\n",
    "    print(f\"Response code: {get_response.status_code}\")\n",
    "    \n",
    "get_response = runGetChampionMasteriesBySummonerId(summoner_info['id'],in_region)\n",
    "if get_response.status_code == 200:\n",
    "    summoner_mastery = get_response.json()\n",
    "    for chidx in range(len(summoner_mastery)):\n",
    "        ch = id_to_champ[summoner_mastery[chidx]['championId']]\n",
    "        img_champion = Image.open(path.join(root_dir, data_dragon_root, f\"10.16.1/img/sprite/{champ_data[ch]['image']['sprite']}\"))\n",
    "        display.display(img_champion.crop((champ_data[ch]['image']['x'],champ_data[ch]['image']['y'],champ_data[ch]['image']['x'] + champ_data[ch]['image']['w'],champ_data[ch]['image']['y'] + champ_data[ch]['image']['h'])).resize((50,50)))\n",
    "        print(f\"Mastery: {summoner_mastery[chidx]['championLevel']} with Mastery Points: {summoner_mastery[chidx]['championPoints']}\")\n",
    "        if chidx >= 10:\n",
    "            break\n",
    "else:\n",
    "    print(f\"Response code: {get_response.status_code}\")\n",
    "    \n",
    "get_response = runGetMatchListByAccount(summoner_info['accountId'],'euw1')\n",
    "if get_response.status_code == 200:\n",
    "    match_list = get_response.json()\n",
    "    print(f\"Number of matches: {len(match_list['matches'])}\")\n",
    "else:\n",
    "    print(f\"Response code: {get_response.status_code}\")\n",
    "          \n",
    "get_response = runGetMatchInfoByMatchId(match_list['matches'][0]['gameId'],'euw1')\n",
    "if get_response.status_code == 200:\n",
    "    match_info = get_response.json()\n",
    "    print(f\"The Game mode: {match_info['gameMode']}\")\n",
    "else:\n",
    "    print(f\"Response code: {get_response.status_code}\")\n",
    "\n",
    "get_response = runGetMatchTimelineDataByGameID(match_list['matches'][0]['gameId'],'euw1')\n",
    "if get_response.status_code == 200:\n",
    "    match_data = get_response.json()\n",
    "    print(f\"Number of frames: {len(match_data['frames'])}\")\n",
    "else:\n",
    "    print(f\"Response code: {get_response.status_code}\")"
   ]
  },
  {
   "cell_type": "code",
   "execution_count": null,
   "metadata": {
    "scrolled": true
   },
   "outputs": [],
   "source": [
    "match_data['frames'][4]['events']"
   ]
  },
  {
   "cell_type": "code",
   "execution_count": null,
   "metadata": {},
   "outputs": [],
   "source": [
    "summoner_info"
   ]
  },
  {
   "cell_type": "code",
   "execution_count": null,
   "metadata": {
    "scrolled": true
   },
   "outputs": [],
   "source": [
    "match_info['participantIdentities'][7]"
   ]
  },
  {
   "cell_type": "code",
   "execution_count": null,
   "metadata": {},
   "outputs": [],
   "source": [
    "summoner_league"
   ]
  },
  {
   "cell_type": "code",
   "execution_count": null,
   "metadata": {
    "scrolled": true
   },
   "outputs": [],
   "source": [
    "id_to_champ['67']"
   ]
  },
  {
   "cell_type": "code",
   "execution_count": null,
   "metadata": {},
   "outputs": [],
   "source": []
  }
 ],
 "metadata": {
  "kernelspec": {
   "display_name": "Python 3",
   "language": "python",
   "name": "python3"
  },
  "language_info": {
   "codemirror_mode": {
    "name": "ipython",
    "version": 3
   },
   "file_extension": ".py",
   "mimetype": "text/x-python",
   "name": "python",
   "nbconvert_exporter": "python",
   "pygments_lexer": "ipython3",
   "version": "3.8.5"
  }
 },
 "nbformat": 4,
 "nbformat_minor": 4
}
